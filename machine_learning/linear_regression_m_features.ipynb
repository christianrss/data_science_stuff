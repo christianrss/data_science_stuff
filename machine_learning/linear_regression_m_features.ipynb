{
 "cells": [
  {
   "cell_type": "code",
   "execution_count": 28,
   "metadata": {},
   "outputs": [
    {
     "name": "stdout",
     "output_type": "stream",
     "text": [
      "(500, 10) (500,)\n"
     ]
    }
   ],
   "source": [
    "import numpy as np\n",
    "import pandas as pd\n",
    "from sklearn.datasets import make_regression\n",
    "import matplotlib.pyplot as plt\n",
    "from sklearn.model_selection import train_test_split\n",
    "\n",
    "# Generate data\n",
    "\n",
    "X,y = make_regression(n_samples=500,n_features=10,n_informative=5,noise=25.8,random_state=0)\n",
    "n_features = X.shape[1]\n",
    "print(X.shape,y.shape)\n"
   ]
  },
  {
   "cell_type": "code",
   "execution_count": 29,
   "metadata": {},
   "outputs": [
    {
     "data": {
      "text/html": [
       "<div>\n",
       "<style scoped>\n",
       "    .dataframe tbody tr th:only-of-type {\n",
       "        vertical-align: middle;\n",
       "    }\n",
       "\n",
       "    .dataframe tbody tr th {\n",
       "        vertical-align: top;\n",
       "    }\n",
       "\n",
       "    .dataframe thead th {\n",
       "        text-align: right;\n",
       "    }\n",
       "</style>\n",
       "<table border=\"1\" class=\"dataframe\">\n",
       "  <thead>\n",
       "    <tr style=\"text-align: right;\">\n",
       "      <th></th>\n",
       "      <th>0</th>\n",
       "      <th>1</th>\n",
       "      <th>2</th>\n",
       "      <th>3</th>\n",
       "      <th>4</th>\n",
       "      <th>5</th>\n",
       "      <th>6</th>\n",
       "      <th>7</th>\n",
       "      <th>8</th>\n",
       "      <th>9</th>\n",
       "    </tr>\n",
       "  </thead>\n",
       "  <tbody>\n",
       "    <tr>\n",
       "      <th>0</th>\n",
       "      <td>1.706468</td>\n",
       "      <td>1.511639</td>\n",
       "      <td>-0.000417</td>\n",
       "      <td>0.374155</td>\n",
       "      <td>0.073285</td>\n",
       "      <td>0.701783</td>\n",
       "      <td>0.409552</td>\n",
       "      <td>-0.461894</td>\n",
       "      <td>-0.626490</td>\n",
       "      <td>-0.799593</td>\n",
       "    </tr>\n",
       "    <tr>\n",
       "      <th>1</th>\n",
       "      <td>-1.616956</td>\n",
       "      <td>0.640132</td>\n",
       "      <td>-0.369182</td>\n",
       "      <td>-0.239379</td>\n",
       "      <td>-0.738031</td>\n",
       "      <td>-0.024326</td>\n",
       "      <td>1.099660</td>\n",
       "      <td>0.279925</td>\n",
       "      <td>-0.098150</td>\n",
       "      <td>0.655264</td>\n",
       "    </tr>\n",
       "    <tr>\n",
       "      <th>2</th>\n",
       "      <td>0.093953</td>\n",
       "      <td>-0.130107</td>\n",
       "      <td>0.929505</td>\n",
       "      <td>0.582225</td>\n",
       "      <td>-2.739677</td>\n",
       "      <td>0.943046</td>\n",
       "      <td>-2.094603</td>\n",
       "      <td>-0.569312</td>\n",
       "      <td>0.269904</td>\n",
       "      <td>0.123722</td>\n",
       "    </tr>\n",
       "    <tr>\n",
       "      <th>3</th>\n",
       "      <td>-1.542758</td>\n",
       "      <td>-0.789954</td>\n",
       "      <td>0.537035</td>\n",
       "      <td>-0.286835</td>\n",
       "      <td>-2.369623</td>\n",
       "      <td>-0.767332</td>\n",
       "      <td>1.634406</td>\n",
       "      <td>-0.260560</td>\n",
       "      <td>0.128957</td>\n",
       "      <td>0.571227</td>\n",
       "    </tr>\n",
       "    <tr>\n",
       "      <th>4</th>\n",
       "      <td>-0.101003</td>\n",
       "      <td>-2.231538</td>\n",
       "      <td>0.436187</td>\n",
       "      <td>1.571463</td>\n",
       "      <td>1.324868</td>\n",
       "      <td>-0.587375</td>\n",
       "      <td>1.077315</td>\n",
       "      <td>0.840648</td>\n",
       "      <td>0.261106</td>\n",
       "      <td>0.811090</td>\n",
       "    </tr>\n",
       "  </tbody>\n",
       "</table>\n",
       "</div>"
      ],
      "text/plain": [
       "          0         1         2         3         4         5         6  \\\n",
       "0  1.706468  1.511639 -0.000417  0.374155  0.073285  0.701783  0.409552   \n",
       "1 -1.616956  0.640132 -0.369182 -0.239379 -0.738031 -0.024326  1.099660   \n",
       "2  0.093953 -0.130107  0.929505  0.582225 -2.739677  0.943046 -2.094603   \n",
       "3 -1.542758 -0.789954  0.537035 -0.286835 -2.369623 -0.767332  1.634406   \n",
       "4 -0.101003 -2.231538  0.436187  1.571463  1.324868 -0.587375  1.077315   \n",
       "\n",
       "          7         8         9  \n",
       "0 -0.461894 -0.626490 -0.799593  \n",
       "1  0.279925 -0.098150  0.655264  \n",
       "2 -0.569312  0.269904  0.123722  \n",
       "3 -0.260560  0.128957  0.571227  \n",
       "4  0.840648  0.261106  0.811090  "
      ]
     },
     "execution_count": 29,
     "metadata": {},
     "output_type": "execute_result"
    }
   ],
   "source": [
    "pd.DataFrame(X).head()"
   ]
  },
  {
   "cell_type": "code",
   "execution_count": 30,
   "metadata": {},
   "outputs": [
    {
     "data": {
      "text/html": [
       "<div>\n",
       "<style scoped>\n",
       "    .dataframe tbody tr th:only-of-type {\n",
       "        vertical-align: middle;\n",
       "    }\n",
       "\n",
       "    .dataframe tbody tr th {\n",
       "        vertical-align: top;\n",
       "    }\n",
       "\n",
       "    .dataframe thead th {\n",
       "        text-align: right;\n",
       "    }\n",
       "</style>\n",
       "<table border=\"1\" class=\"dataframe\">\n",
       "  <thead>\n",
       "    <tr style=\"text-align: right;\">\n",
       "      <th></th>\n",
       "      <th>0</th>\n",
       "      <th>1</th>\n",
       "      <th>2</th>\n",
       "      <th>3</th>\n",
       "      <th>4</th>\n",
       "      <th>5</th>\n",
       "      <th>6</th>\n",
       "      <th>7</th>\n",
       "      <th>8</th>\n",
       "      <th>9</th>\n",
       "    </tr>\n",
       "  </thead>\n",
       "  <tbody>\n",
       "    <tr>\n",
       "      <th>0</th>\n",
       "      <td>1.764831</td>\n",
       "      <td>1.579606</td>\n",
       "      <td>0.093808</td>\n",
       "      <td>0.341546</td>\n",
       "      <td>0.103202</td>\n",
       "      <td>0.745205</td>\n",
       "      <td>0.421736</td>\n",
       "      <td>-0.461091</td>\n",
       "      <td>-0.710885</td>\n",
       "      <td>-0.761760</td>\n",
       "    </tr>\n",
       "    <tr>\n",
       "      <th>1</th>\n",
       "      <td>-1.612963</td>\n",
       "      <td>0.709920</td>\n",
       "      <td>-0.277540</td>\n",
       "      <td>-0.301827</td>\n",
       "      <td>-0.693297</td>\n",
       "      <td>-0.045695</td>\n",
       "      <td>1.116862</td>\n",
       "      <td>0.265971</td>\n",
       "      <td>-0.166048</td>\n",
       "      <td>0.714702</td>\n",
       "    </tr>\n",
       "    <tr>\n",
       "      <th>2</th>\n",
       "      <td>0.125936</td>\n",
       "      <td>-0.058708</td>\n",
       "      <td>1.030243</td>\n",
       "      <td>0.559735</td>\n",
       "      <td>-2.658385</td>\n",
       "      <td>1.007996</td>\n",
       "      <td>-2.100631</td>\n",
       "      <td>-0.566372</td>\n",
       "      <td>0.213499</td>\n",
       "      <td>0.175267</td>\n",
       "    </tr>\n",
       "    <tr>\n",
       "      <th>3</th>\n",
       "      <td>-1.537551</td>\n",
       "      <td>-0.717175</td>\n",
       "      <td>0.635024</td>\n",
       "      <td>-0.351591</td>\n",
       "      <td>-2.295090</td>\n",
       "      <td>-0.855000</td>\n",
       "      <td>1.655498</td>\n",
       "      <td>-0.263762</td>\n",
       "      <td>0.068151</td>\n",
       "      <td>0.629417</td>\n",
       "    </tr>\n",
       "    <tr>\n",
       "      <th>4</th>\n",
       "      <td>-0.072209</td>\n",
       "      <td>-2.155744</td>\n",
       "      <td>0.533470</td>\n",
       "      <td>1.597083</td>\n",
       "      <td>1.331926</td>\n",
       "      <td>-0.658985</td>\n",
       "      <td>1.094355</td>\n",
       "      <td>0.815541</td>\n",
       "      <td>0.204426</td>\n",
       "      <td>0.872842</td>\n",
       "    </tr>\n",
       "  </tbody>\n",
       "</table>\n",
       "</div>"
      ],
      "text/plain": [
       "          0         1         2         3         4         5         6  \\\n",
       "0  1.764831  1.579606  0.093808  0.341546  0.103202  0.745205  0.421736   \n",
       "1 -1.612963  0.709920 -0.277540 -0.301827 -0.693297 -0.045695  1.116862   \n",
       "2  0.125936 -0.058708  1.030243  0.559735 -2.658385  1.007996 -2.100631   \n",
       "3 -1.537551 -0.717175  0.635024 -0.351591 -2.295090 -0.855000  1.655498   \n",
       "4 -0.072209 -2.155744  0.533470  1.597083  1.331926 -0.658985  1.094355   \n",
       "\n",
       "          7         8         9  \n",
       "0 -0.461091 -0.710885 -0.761760  \n",
       "1  0.265971 -0.166048  0.714702  \n",
       "2 -0.566372  0.213499  0.175267  \n",
       "3 -0.263762  0.068151  0.629417  \n",
       "4  0.815541  0.204426  0.872842  "
      ]
     },
     "execution_count": 30,
     "metadata": {},
     "output_type": "execute_result"
    }
   ],
   "source": [
    "# Normalise\n",
    "def normalise(X):\n",
    "    u = X.mean(axis=0)\n",
    "    std = X.std(axis=0)\n",
    "\n",
    "    return (X-u)/std\n",
    "\n",
    "X = normalise(X)\n",
    "pd.DataFrame(X).head()\n",
    "\n"
   ]
  },
  {
   "cell_type": "code",
   "execution_count": 31,
   "metadata": {},
   "outputs": [
    {
     "data": {
      "text/plain": [
       "array([-2.75335310e-17,  5.82867088e-17, -1.06581410e-17, -1.39888101e-17,\n",
       "        2.49800181e-18,  4.28546088e-17,  1.43635104e-17,  1.46549439e-17,\n",
       "        7.14983628e-17, -1.07691633e-16])"
      ]
     },
     "execution_count": 31,
     "metadata": {},
     "output_type": "execute_result"
    }
   ],
   "source": [
    "X.mean(axis=0)"
   ]
  },
  {
   "cell_type": "code",
   "execution_count": 32,
   "metadata": {},
   "outputs": [
    {
     "data": {
      "text/plain": [
       "array([1., 1., 1., 1., 1., 1., 1., 1., 1., 1.])"
      ]
     },
     "execution_count": 32,
     "metadata": {},
     "output_type": "execute_result"
    }
   ],
   "source": [
    "X.std(axis=0)"
   ]
  },
  {
   "cell_type": "code",
   "execution_count": 33,
   "metadata": {},
   "outputs": [
    {
     "data": {
      "image/png": "[encoded data removed]",
      "text/plain": [
       "<Figure size 640x480 with 10 Axes>"
      ]
     },
     "metadata": {},
     "output_type": "display_data"
    }
   ],
   "source": [
    "# Visualise y as function of each feature\n",
    "for f in range(0,10):\n",
    "    plt.subplot(4,3,f+1)\n",
    "    plt.scatter(X[:,f],y)\n",
    "plt.show()"
   ]
  },
  {
   "cell_type": "code",
   "execution_count": 34,
   "metadata": {},
   "outputs": [],
   "source": [
    "# Train test split\n",
    "XT, Xt, yT, yt = train_test_split(X,y,test_size=0.3,shuffle=False,random_state=0)\n"
   ]
  },
  {
   "cell_type": "code",
   "execution_count": 35,
   "metadata": {},
   "outputs": [
    {
     "name": "stdout",
     "output_type": "stream",
     "text": [
      "(350, 10) (350,)\n",
      "(150, 10) (150,)\n"
     ]
    }
   ],
   "source": [
    "print(XT.shape, yT.shape)\n",
    "print(Xt.shape, yt.shape)"
   ]
  },
  {
   "cell_type": "code",
   "execution_count": 36,
   "metadata": {},
   "outputs": [],
   "source": [
    "def preprocess(X):\n",
    "    if X.shape[1] == n_features:\n",
    "        # add a column of 1s in X as 0th column\n",
    "        m = X.shape[0]\n",
    "        ones = np.ones((m,1))\n",
    "        X = np.hstack((ones,X))\n",
    "    return X"
   ]
  },
  {
   "cell_type": "code",
   "execution_count": 41,
   "metadata": {},
   "outputs": [],
   "source": [
    "#Modelling / Linear Regression with Multiple Features\n",
    "def hypothesis(X,theta):\n",
    "    return np.dot(X, theta)\n",
    "\n",
    "def loss(X,y,theta):\n",
    "    yp = hypothesis(X,theta)\n",
    "    error = np.sum((y-yp)**2)\n",
    "    return error\n",
    "\n",
    "def gradient(X,y,theta):\n",
    "    yp = hypothesis(X,theta)\n",
    "    grad = np.dot(X.T,(yp-y))\n",
    "    m = X.shape[0]\n",
    "    return grad/m\n",
    "\n",
    "def train(X,y,learning_rate=0.1,max_iters=100):\n",
    "    n = X.shape[1]\n",
    "    theta = np.random.randn(n)\n",
    "    error_list = []\n",
    "    for i in range(max_iters):\n",
    "        e = loss(X,y,theta)\n",
    "        error_list.append(e)\n",
    "        grad = gradient(X,y,theta)\n",
    "        theta = theta - learning_rate * grad\n",
    "\n",
    "    plt.plot(error_list)\n",
    "    return theta\n"
   ]
  },
  {
   "cell_type": "code",
   "execution_count": 42,
   "metadata": {},
   "outputs": [
    {
     "name": "stdout",
     "output_type": "stream",
     "text": [
      "[-5.15769426 -0.26676167 61.81947368 11.37822192 65.52673941 -0.48102873\n",
      "  0.93723189 41.17538703  0.54484037  0.75634372 22.42689915]\n"
     ]
    },
    {
     "data": {
      "image/png": "[encoded data removed]",
      "text/plain": [
       "<Figure size 640x480 with 1 Axes>"
      ]
     },
     "metadata": {},
     "output_type": "display_data"
    }
   ],
   "source": [
    "theta = train(XT,yT)\n",
    "print(theta)"
   ]
  },
  {
   "cell_type": "code",
   "execution_count": 39,
   "metadata": {},
   "outputs": [
    {
     "data": {
      "text/html": [
       "<div>\n",
       "<style scoped>\n",
       "    .dataframe tbody tr th:only-of-type {\n",
       "        vertical-align: middle;\n",
       "    }\n",
       "\n",
       "    .dataframe tbody tr th {\n",
       "        vertical-align: top;\n",
       "    }\n",
       "\n",
       "    .dataframe thead th {\n",
       "        text-align: right;\n",
       "    }\n",
       "</style>\n",
       "<table border=\"1\" class=\"dataframe\">\n",
       "  <thead>\n",
       "    <tr style=\"text-align: right;\">\n",
       "      <th></th>\n",
       "      <th>0</th>\n",
       "      <th>1</th>\n",
       "      <th>2</th>\n",
       "      <th>3</th>\n",
       "      <th>4</th>\n",
       "      <th>5</th>\n",
       "      <th>6</th>\n",
       "      <th>7</th>\n",
       "      <th>8</th>\n",
       "      <th>9</th>\n",
       "    </tr>\n",
       "  </thead>\n",
       "  <tbody>\n",
       "    <tr>\n",
       "      <th>0</th>\n",
       "      <td>1.764831</td>\n",
       "      <td>1.579606</td>\n",
       "      <td>0.093808</td>\n",
       "      <td>0.341546</td>\n",
       "      <td>0.103202</td>\n",
       "      <td>0.745205</td>\n",
       "      <td>0.421736</td>\n",
       "      <td>-0.461091</td>\n",
       "      <td>-0.710885</td>\n",
       "      <td>-0.761760</td>\n",
       "    </tr>\n",
       "    <tr>\n",
       "      <th>1</th>\n",
       "      <td>-1.612963</td>\n",
       "      <td>0.709920</td>\n",
       "      <td>-0.277540</td>\n",
       "      <td>-0.301827</td>\n",
       "      <td>-0.693297</td>\n",
       "      <td>-0.045695</td>\n",
       "      <td>1.116862</td>\n",
       "      <td>0.265971</td>\n",
       "      <td>-0.166048</td>\n",
       "      <td>0.714702</td>\n",
       "    </tr>\n",
       "    <tr>\n",
       "      <th>2</th>\n",
       "      <td>0.125936</td>\n",
       "      <td>-0.058708</td>\n",
       "      <td>1.030243</td>\n",
       "      <td>0.559735</td>\n",
       "      <td>-2.658385</td>\n",
       "      <td>1.007996</td>\n",
       "      <td>-2.100631</td>\n",
       "      <td>-0.566372</td>\n",
       "      <td>0.213499</td>\n",
       "      <td>0.175267</td>\n",
       "    </tr>\n",
       "    <tr>\n",
       "      <th>3</th>\n",
       "      <td>-1.537551</td>\n",
       "      <td>-0.717175</td>\n",
       "      <td>0.635024</td>\n",
       "      <td>-0.351591</td>\n",
       "      <td>-2.295090</td>\n",
       "      <td>-0.855000</td>\n",
       "      <td>1.655498</td>\n",
       "      <td>-0.263762</td>\n",
       "      <td>0.068151</td>\n",
       "      <td>0.629417</td>\n",
       "    </tr>\n",
       "    <tr>\n",
       "      <th>4</th>\n",
       "      <td>-0.072209</td>\n",
       "      <td>-2.155744</td>\n",
       "      <td>0.533470</td>\n",
       "      <td>1.597083</td>\n",
       "      <td>1.331926</td>\n",
       "      <td>-0.658985</td>\n",
       "      <td>1.094355</td>\n",
       "      <td>0.815541</td>\n",
       "      <td>0.204426</td>\n",
       "      <td>0.872842</td>\n",
       "    </tr>\n",
       "  </tbody>\n",
       "</table>\n",
       "</div>"
      ],
      "text/plain": [
       "          0         1         2         3         4         5         6  \\\n",
       "0  1.764831  1.579606  0.093808  0.341546  0.103202  0.745205  0.421736   \n",
       "1 -1.612963  0.709920 -0.277540 -0.301827 -0.693297 -0.045695  1.116862   \n",
       "2  0.125936 -0.058708  1.030243  0.559735 -2.658385  1.007996 -2.100631   \n",
       "3 -1.537551 -0.717175  0.635024 -0.351591 -2.295090 -0.855000  1.655498   \n",
       "4 -0.072209 -2.155744  0.533470  1.597083  1.331926 -0.658985  1.094355   \n",
       "\n",
       "          7         8         9  \n",
       "0 -0.461091 -0.710885 -0.761760  \n",
       "1  0.265971 -0.166048  0.714702  \n",
       "2 -0.566372  0.213499  0.175267  \n",
       "3 -0.263762  0.068151  0.629417  \n",
       "4  0.815541  0.204426  0.872842  "
      ]
     },
     "execution_count": 39,
     "metadata": {},
     "output_type": "execute_result"
    }
   ],
   "source": [
    "pd.DataFrame(X).head()"
   ]
  },
  {
   "cell_type": "code",
   "execution_count": 40,
   "metadata": {},
   "outputs": [
    {
     "name": "stdout",
     "output_type": "stream",
     "text": [
      "(350, 11) (150, 11)\n"
     ]
    }
   ],
   "source": [
    "XT = preprocess(XT)\n",
    "Xt = preprocess(Xt)\n",
    "#pd.DataFrame(XT.shape,Xt.shape).head()\n",
    "print(XT.shape, Xt.shape)"
   ]
  },
  {
   "cell_type": "code",
   "execution_count": null,
   "metadata": {},
   "outputs": [],
   "source": []
  },
  {
   "cell_type": "markdown",
   "metadata": {},
   "source": []
  }
 ],
 "metadata": {
  "kernelspec": {
   "display_name": "Python 3",
   "language": "python",
   "name": "python3"
  },
  "language_info": {
   "codemirror_mode": {
    "name": "ipython",
    "version": 3
   },
   "file_extension": ".py",
   "mimetype": "text/x-python",
   "name": "python",
   "nbconvert_exporter": "python",
   "pygments_lexer": "ipython3",
   "version": "3.12.3"
  }
 },
 "nbformat": 4,
 "nbformat_minor": 2
}
