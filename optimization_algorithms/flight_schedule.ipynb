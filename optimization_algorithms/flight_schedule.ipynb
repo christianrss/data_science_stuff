{
 "cells": [
  {
   "cell_type": "markdown",
   "metadata": {},
   "source": [
    "Representação do problema"
   ]
  },
  {
   "cell_type": "code",
   "execution_count": 4,
   "metadata": {},
   "outputs": [],
   "source": [
    "pessoas = [\n",
    "    ('Lisboa', 'LIS'),\n",
    "    ('Madrid', 'MAd'),\n",
    "    ('Paris', 'CDG'),\n",
    "    ('Dublin', 'DUB'),\n",
    "    ('Bruxelas', 'BRU'),\n",
    "    ('Londres', 'LHR')\n",
    "]"
   ]
  },
  {
   "cell_type": "code",
   "execution_count": null,
   "metadata": {},
   "outputs": [],
   "source": [
    "destino = 'FCO'"
   ]
  },
  {
   "cell_type": "code",
   "execution_count": 11,
   "metadata": {},
   "outputs": [
    {
     "data": {
      "text/plain": [
       "[('6:11', '8:31', 249),\n",
       " ('7:39', '10:24', 219),\n",
       " ('9:15', '12:03', 99),\n",
       " ('11:08', '13:07', 175),\n",
       " ('12:18', '14:56', 172),\n",
       " ('13:37', '15:08', 250),\n",
       " ('15:03', '16:42', 135),\n",
       " ('16:51', '19:09', 147),\n",
       " ('18:12', '20:17', 242),\n",
       " ('20:05', '22:06', 261)]"
      ]
     },
     "execution_count": 11,
     "metadata": {},
     "output_type": "execute_result"
    }
   ],
   "source": [
    "voos = {}\n",
    "for linha in open('database/flights.txt'):\n",
    "    origem, destino, saida, chegada, preco = linha.split(',')\n",
    "    voos.setdefault((origem, destino,), [])\n",
    "    voos[(origem, destino)].append((saida, chegada, int(preco)))\n",
    "voos[('LIS', 'FCO')]"
   ]
  },
  {
   "cell_type": "code",
   "execution_count": 12,
   "metadata": {},
   "outputs": [
    {
     "data": {
      "text/plain": [
       "[('6:19', '8:13', 239),\n",
       " ('8:04', '10:59', 136),\n",
       " ('9:31', '11:43', 210),\n",
       " ('11:07', '13:24', 171),\n",
       " ('12:31', '14:02', 234),\n",
       " ('14:05', '15:47', 226),\n",
       " ('15:07', '17:21', 129),\n",
       " ('16:35', '18:56', 144),\n",
       " ('18:25', '20:34', 205),\n",
       " ('20:05', '21:44', 172)]"
      ]
     },
     "execution_count": 12,
     "metadata": {},
     "output_type": "execute_result"
    }
   ],
   "source": [
    "voos[('FCO', 'LIS')]"
   ]
  },
  {
   "cell_type": "markdown",
   "metadata": {},
   "source": [
    "Fitness function"
   ]
  },
  {
   "cell_type": "code",
   "execution_count": null,
   "metadata": {},
   "outputs": [],
   "source": []
  },
  {
   "cell_type": "markdown",
   "metadata": {},
   "source": [
    "Hill climb"
   ]
  },
  {
   "cell_type": "markdown",
   "metadata": {},
   "source": [
    "Simulated annealing"
   ]
  },
  {
   "cell_type": "markdown",
   "metadata": {},
   "source": [
    "Algoritmo genético"
   ]
  }
 ],
 "metadata": {
  "kernelspec": {
   "display_name": ".venv",
   "language": "python",
   "name": "python3"
  },
  "language_info": {
   "codemirror_mode": {
    "name": "ipython",
    "version": 3
   },
   "file_extension": ".py",
   "mimetype": "text/x-python",
   "name": "python",
   "nbconvert_exporter": "python",
   "pygments_lexer": "ipython3",
   "version": "3.12.2"
  }
 },
 "nbformat": 4,
 "nbformat_minor": 2
}
